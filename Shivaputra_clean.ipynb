{
 "cells": [
  {
   "cell_type": "code",
   "execution_count": null,
   "id": "af7e407b-3c2b-4b69-a883-8d775ae2d81d",
   "metadata": {},
   "outputs": [],
   "source": [
    "# ===============================\n",
    "# 1. Import Libraries\n",
    "# ===============================\n",
    "import pandas as pd\n",
    "import numpy as np\n",
    "import matplotlib.pyplot as plt\n",
    "import seaborn as sns\n",
    "import os\n",
    "from PIL import Image\n",
    "import cv2\n",
    "%matplotlib inline"
   ]
  },
  {
   "cell_type": "code",
   "execution_count": null,
   "id": "e1f44b97-d923-4df5-8842-05354354e584",
   "metadata": {},
   "outputs": [],
   "source": [
    "# ===============================\n",
    "# 2. Set Paths\n",
    "# ===============================\n",
    "ATTR_CSV = r'D:\\Shiva\\Shiva New\\Shiva New Project\\list_attr_celeba.csv'\n",
    "IMG_FOLDER = r'D:\\Shiva\\Shiva New\\Shiva New Project\\img_align_celeba\\img_align_celeba'\n",
    "PARTITION_CSV = r'D:\\Shiva\\Shiva New\\Shiva New Project\\list_eval_partition.csv'"
   ]
  },
  {
   "cell_type": "code",
   "execution_count": null,
   "id": "2070d265-958d-4564-9c6d-d0fb6b6e5f83",
   "metadata": {},
   "outputs": [],
   "source": [
    "# ===============================\n",
    "# 3. Load Attribute Data\n",
    "# ===============================\n",
    "df_attr = pd.read_csv(ATTR_CSV)\n",
    "df_attr.set_index('image_id', inplace=True)"
   ]
  },
  {
   "cell_type": "code",
   "execution_count": null,
   "id": "ca42c6de-0817-4c01-965e-a323336e934a",
   "metadata": {},
   "outputs": [],
   "source": [
    "# Convert -1 to 0 for binary classification\n",
    "df_attr = (df_attr + 1) // 2"
   ]
  },
  {
   "cell_type": "code",
   "execution_count": null,
   "id": "6bcab4a2-de54-4b6a-8d16-7e201ee2227c",
   "metadata": {},
   "outputs": [],
   "source": [
    "# Display basic info\n",
    "print(\"Shape:\", df_attr.shape)\n",
    "print(\"Columns:\", df_attr.columns.tolist())\n",
    "display(df_attr.head())"
   ]
  },
  {
   "cell_type": "code",
   "execution_count": null,
   "id": "02890226-328a-4cf0-8f9c-2bc460a42e38",
   "metadata": {},
   "outputs": [],
   "source": [
    "# ===============================\n",
    "# 4. Load Partition Information\n",
    "# ===============================\n",
    "df_partition = pd.read_csv(PARTITION_CSV)\n",
    "df_partition.columns = ['image_id', 'partition']\n",
    "df_partition.set_index('image_id', inplace=True)\n",
    "display(df_partition['partition'].value_counts())"
   ]
  },
  {
   "cell_type": "code",
   "execution_count": null,
   "id": "6cedf195-8434-4542-8c73-b4e8102ff94c",
   "metadata": {},
   "outputs": [],
   "source": [
    "# ===============================\n",
    "# 5. Merge for Easier Management\n",
    "# ===============================\n",
    "df = df_attr.merge(df_partition, left_index=True, right_index=True)\n",
    "display(df.head())"
   ]
  },
  {
   "cell_type": "code",
   "execution_count": null,
   "id": "ad4f938f-4215-4354-9e97-8c6811f3dabf",
   "metadata": {},
   "outputs": [],
   "source": [
    "# ===============================\n",
    "# 6. Class Distribution for Each Attribute\n",
    "# ===============================\n",
    "attr_counts = df.iloc[:, :-1].sum().sort_values(ascending=False)\n",
    "\n",
    "# Plot distribution\n",
    "plt.figure(figsize=(12, 10))\n",
    "sns.barplot(x=attr_counts.values, y=attr_counts.index)\n",
    "plt.title('Positive Sample Count per Attribute')\n",
    "plt.xlabel('Count')\n",
    "plt.ylabel('Attribute')\n",
    "plt.grid(True)\n",
    "plt.tight_layout()\n",
    "plt.show()"
   ]
  },
  {
   "cell_type": "code",
   "execution_count": null,
   "id": "cd170e63-09c7-4185-afc8-690fa0556a63",
   "metadata": {},
   "outputs": [],
   "source": [
    "# ===============================\n",
    "# 7. Attribute Correlation Matrix\n",
    "# ===============================\n",
    "plt.figure(figsize=(14, 12))\n",
    "corr = df.iloc[:, :-1].corr()\n",
    "sns.heatmap(corr, cmap='coolwarm', center=0, square=True)\n",
    "plt.title(\"Correlation Between Facial Attributes\")\n",
    "plt.show()"
   ]
  },
  {
   "cell_type": "code",
   "execution_count": null,
   "id": "991ad494-4783-4d17-b583-f3b54b08e85a",
   "metadata": {},
   "outputs": [],
   "source": [
    "# ===============================\n",
    "# 8. Example Images with Attributes\n",
    "# ===============================\n",
    "def show_images_with_attributes(attr, count=5):\n",
    "    sample = df[df[attr] == 1].sample(count)\n",
    "    plt.figure(figsize=(15, 5))\n",
    "    for i, img_id in enumerate(sample.index):\n",
    "        img_path = os.path.join(IMG_FOLDER, img_id)\n",
    "        img = Image.open(img_path)\n",
    "        plt.subplot(1, count, i + 1)\n",
    "        plt.imshow(img)\n",
    "        plt.axis('off')\n",
    "        plt.title(img_id)\n",
    "    plt.suptitle(f\"Sample Images with Attribute: {attr}\")\n",
    "    plt.show()"
   ]
  },
  {
   "cell_type": "code",
   "execution_count": null,
   "id": "9b811c07-c25f-47e4-affe-ba4f220c2dff",
   "metadata": {},
   "outputs": [],
   "source": [
    "# Example: show images with 'Smiling'\n",
    "show_images_with_attributes('Smiling')"
   ]
  },
  {
   "cell_type": "code",
   "execution_count": null,
   "id": "c6deea99-6ef5-46e5-8df7-da0b077433ab",
   "metadata": {},
   "outputs": [],
   "source": [
    "# ===============================\n",
    "# 9. Preprocessing: Image Resizing & Normalization\n",
    "# ===============================\n",
    "def preprocess_image(image_path, size=(128, 128)):\n",
    "    img = Image.open(image_path)\n",
    "    img = img.resize(size)\n",
    "    img = np.array(img) / 255.0  # Normalize to [0, 1]\n",
    "    return img"
   ]
  },
  {
   "cell_type": "code",
   "execution_count": null,
   "id": "35a5694d-6c9c-4efc-9a2c-4f4c58fe7038",
   "metadata": {},
   "outputs": [],
   "source": [
    "# Example usage:\n",
    "sample_image_path = os.path.join(IMG_FOLDER, df.index[0])\n",
    "img_array = preprocess_image(sample_image_path)\n",
    "print(\"Preprocessed image shape:\", img_array.shape)"
   ]
  },
  {
   "cell_type": "code",
   "execution_count": null,
   "id": "a716bec9-b9fc-438d-acc6-4172e00ca98c",
   "metadata": {},
   "outputs": [],
   "source": []
  }
 ],
 "metadata": {
  "kernelspec": {
   "display_name": "Python 3 (ipykernel)",
   "language": "python",
   "name": "python3"
  },
  "language_info": {
   "codemirror_mode": {
    "name": "ipython",
    "version": 3
   },
   "file_extension": ".py",
   "mimetype": "text/x-python",
   "name": "python",
   "nbconvert_exporter": "python",
   "pygments_lexer": "ipython3",
   "version": "3.12.4"
  }
 },
 "nbformat": 4,
 "nbformat_minor": 5
}